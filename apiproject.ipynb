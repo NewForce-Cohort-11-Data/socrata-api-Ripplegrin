{
 "cells": [
  {
   "cell_type": "markdown",
   "id": "7c1b9040-4d31-49ad-aba5-4a058aa4a23c",
   "metadata": {},
   "source": [
    "In this exercise, you'll redo the data gathering phase of the UNData Exploration project by using APIs instead of downloading csv files.\n",
    "\n",
    "You'll make use of the World Bank Indicators API. Note that this API does not require an API key. Before attempting the exercise, it would be a good idea to skim through the Documentation page and to check out the Basic Call Structure article.\n",
    "\n",
    "Use the API to get all available data for the GDP per capita, PPP (constant 2017 international $) indicator. Hint: this indicator has code \"NY.GDP.PCAP.PP.KD\". Adjust the query parameters so that you can retrieve all available rows. Convert the results to a DataFrame.\n",
    "\n",
    "Now, use the API to get all available data for Life expectancy at birth, total (years). This indicator has code \"SP.DYN.LE00.IN\". Again, convert the results to a DataFrame.\n",
    "\n",
    "Merge the two results DataFrames together. You may want to rename or drop columns prior to merging.\n",
    "\n",
    "You can also get more information about the available countries (region, capital city, income level classification, etc.) by using the Country API. Use this API to pull in all available data. Merge this with your other datasets. Use this to now remove the rows that correspond to regions and not countries.\n",
    "\n",
    "Bonus Questions: After doing a basic request to get all records, you can attempt these exercises to get additional practice using query parameters.\n",
    "\n",
    "Adjust your request so that it returns data just for the United States.\n",
    "\n",
    "Adjust your request so that it returns data just for the United States for the year 2021.\n",
    "\n",
    "Adjust your request so that it returns data just for the United States for the years 2000 through 2021.\n",
    "\n",
    "Adjust your request so that it returns data for the United States and Canada for the years 2000 through 2021.\n",
    "\n",
    "If you haven't already done so and you would like to get some additional practice using loops, use the page parameter in order to pull all records. Do not change the value of the per_page parameter. You will likely need to utilize a loop of some kind in order to pull all records.\n",
    "\n",
    "The endpoint \"http://api.worldbank.org/v2/indicator\" will return information about all available indicators. See Indicator API Queries. Use this endpoint to find the code for the \"Public Expenditure on Education (% GDP)\" indicator."
   ]
  },
  {
   "cell_type": "code",
   "execution_count": 3,
   "id": "8e291272-83a6-4fda-89eb-57ef6764e834",
   "metadata": {},
   "outputs": [],
   "source": [
    "import requests\n",
    "\n",
    "import matplotlib.pyplot as plt"
   ]
  },
  {
   "cell_type": "code",
   "execution_count": 4,
   "id": "100f8163-fe9c-493d-8519-67d97d30d38d",
   "metadata": {},
   "outputs": [],
   "source": [
    "## does not need api key\n",
    "endpoint = 'https://api.worldbank.org/V2/incomeLevel/LIC/country'\n",
    "response = requests.get(endpoint)"
   ]
  },
  {
   "cell_type": "code",
   "execution_count": null,
   "id": "aa99de4e-f81b-4ed0-abd2-838d3721bfcf",
   "metadata": {},
   "outputs": [],
   "source": []
  }
 ],
 "metadata": {
  "kernelspec": {
   "display_name": "Python [conda env:base] *",
   "language": "python",
   "name": "conda-base-py"
  },
  "language_info": {
   "codemirror_mode": {
    "name": "ipython",
    "version": 3
   },
   "file_extension": ".py",
   "mimetype": "text/x-python",
   "name": "python",
   "nbconvert_exporter": "python",
   "pygments_lexer": "ipython3",
   "version": "3.13.5"
  }
 },
 "nbformat": 4,
 "nbformat_minor": 5
}
